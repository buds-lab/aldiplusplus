{
 "cells": [
  {
   "cell_type": "code",
   "execution_count": null,
   "id": "ad94d9dc-98d9-4b5b-a5a9-28ecbfd22d05",
   "metadata": {},
   "outputs": [],
   "source": [
    "import torch\n",
    "\n",
    "\n",
    "\n"
   ]
  },
  {
   "cell_type": "markdown",
   "id": "de34c208-7bfa-4846-98d6-2ae1c3661d53",
   "metadata": {},
   "source": [
    "# Autoencoders"
   ]
  },
  {
   "cell_type": "code",
   "execution_count": null,
   "id": "7384a15e-9080-42fa-b1dd-21c5d12c89a9",
   "metadata": {},
   "outputs": [],
   "source": [
    "# from https://doi.org/10.1016/j.apenergy.2017.12.005\n",
    "# 20 individual autoencoers were used and then ensembled together\n",
    "# the top performing one is 1D convolution with 10% of noise\n",
    "# no real performance on outlier detection, only insights\n",
    "# classification done with the feature space of the AE into another model for classification\n",
    "\n",
    "# model details\n",
    "# 70-30 train-test split is used\n",
    "# sigmoid activation function\n",
    "# learning rate 0.001\n",
    "# 50 epochs\n",
    "# minibatch 10\n",
    "# loss rmse\n",
    "# data is max-min normalized"
   ]
  },
  {
   "cell_type": "code",
   "execution_count": null,
   "id": "abba7ec1-bac2-49e2-8048-e91f2462b1b1",
   "metadata": {},
   "outputs": [],
   "source": []
  },
  {
   "cell_type": "code",
   "execution_count": null,
   "id": "5a81e5a8-5c8d-4774-8950-11b83591007e",
   "metadata": {},
   "outputs": [],
   "source": []
  },
  {
   "cell_type": "code",
   "execution_count": null,
   "id": "c66585c3-cc93-48a4-982a-e55ed33526ae",
   "metadata": {},
   "outputs": [],
   "source": []
  }
 ],
 "metadata": {
  "kernelspec": {
   "display_name": "matrix-profile-bdg",
   "language": "python",
   "name": "matrix-profile-bdg"
  },
  "language_info": {
   "codemirror_mode": {
    "name": "ipython",
    "version": 3
   },
   "file_extension": ".py",
   "mimetype": "text/x-python",
   "name": "python",
   "nbconvert_exporter": "python",
   "pygments_lexer": "ipython3",
   "version": "3.8.8"
  }
 },
 "nbformat": 4,
 "nbformat_minor": 5
}
