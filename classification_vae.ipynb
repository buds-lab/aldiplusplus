{
 "cells": [
  {
   "cell_type": "code",
   "execution_count": 1,
   "id": "4392ffe2-91f2-472d-adc0-8eb5667e473c",
   "metadata": {},
   "outputs": [],
   "source": [
    "import numpy as np \n",
    "import pandas as pd\n",
    "import seaborn as sns\n",
    "import matplotlib.pyplot as plt\n",
    "\n",
    "from data_import_ashrae import DataImportAshrae\n",
    "from aldi_evaluation_metrics import AldiEvaluationMetrics\n",
    "from mergedeep import merge\n",
    "from utils import (\n",
    "    save_variable,\n",
    "    load_variable,\n",
    "    get_daily_resolution,\n",
    ")\n"
   ]
  },
  {
   "cell_type": "code",
   "execution_count": 2,
   "id": "733f5962-3265-41ae-aa65-124e7c02693e",
   "metadata": {},
   "outputs": [
    {
     "name": "stdout",
     "output_type": "stream",
     "text": [
      "0.4092986176073531\n"
     ]
    },
    {
     "data": {
      "text/plain": [
       "'              precision    recall  f1-score   support\\n\\n           0       0.89      0.75      0.82    469166\\n           1       0.03      0.06      0.04     47992\\n\\n    accuracy                           0.69    517158\\n   macro avg       0.46      0.41      0.43    517158\\nweighted avg       0.81      0.69      0.74    517158\\n'"
      ]
     },
     "execution_count": 2,
     "metadata": {},
     "output_type": "execute_result"
    },
    {
     "data": {
      "text/plain": [
       "<Figure size 720x720 with 0 Axes>"
      ]
     },
     "metadata": {},
     "output_type": "display_data"
    }
   ],
   "source": [
    "meter_type = 0 # TODO: this is hourly, need to do daily\n",
    "aldi_name = 'vae'\n",
    "\n",
    "df_all = pd.read_csv(\"data/outliers/bad_meter_readings_detailed.csv\")\n",
    "df_labels = pd.read_csv(\"data/pred_discord/discords_vae.csv\")\n",
    "df_all['pred_labels'] = df_labels\n",
    "df_all = df_all[(df_all[\"meter\"] == meter_type)]\n",
    "list_site_id = list(range(0,16)) \n",
    "list_site_name = [f'Site {i}' for i in list_site_id]\n",
    "\n",
    "dict_all_pred_labels = {}\n",
    "dict_all_true_labels = {}\n",
    "\n",
    "for site_id in list_site_id:\n",
    "    df_all_site = df_all[df_all['site_id'] == site_id]\n",
    "    df_true_labels = DataImportAshrae().get_label_data([meter_type], [site_id])\n",
    "    df_pred_labels = pd.DataFrame(index=df_true_labels.index)\n",
    "    \n",
    "    for bdg in df_all_site['building_id'].unique():\n",
    "        aux_df = df_all_site[df_all_site['building_id'] == bdg]\n",
    "        aux_df.index = pd.to_datetime(aux_df['timestamp'])\n",
    "        aux_df = df_pred_labels.join(aux_df)\n",
    "        df_pred_labels[f'is_discord_{bdg}'] = aux_df['pred_labels'].values\n",
    "\n",
    "#     print(df_pred_labels)\n",
    "    \n",
    "    df_pred_labels = df_pred_labels.fillna(0)\n",
    "    \n",
    "    # transform to daily\n",
    "    df_pred_labels_daily = get_daily_resolution(\n",
    "        df_hourly_data=df_pred_labels, \n",
    "        agg_method='majority_plus')\n",
    "    df_true_labels_daily = get_daily_resolution(\n",
    "        df_hourly_data=df_true_labels, \n",
    "        agg_method='majority_plus')\n",
    "\n",
    "    # keep track of all resuts\n",
    "    dict_all_pred_labels[list_site_name[site_id]] = df_pred_labels_daily\n",
    "    dict_all_true_labels[list_site_name[site_id]] = df_true_labels_daily\n",
    "\n",
    "print(AldiEvaluationMetrics().get_roc_auc(\n",
    "    df_true=pd.concat(dict_all_true_labels, axis=1),\n",
    "    df_pred=pd.concat(dict_all_pred_labels, axis=1)\n",
    "    )\n",
    ")\n",
    "\n",
    "AldiEvaluationMetrics().get_class_report(\n",
    "    df_true=pd.concat(dict_all_true_labels, axis=1),\n",
    "    df_pred=pd.concat(dict_all_pred_labels, axis=1),\n",
    "    aldi_impl = aldi_name, \n",
    "    level_name = 'all', \n",
    "    meter_type = meter_type,\n",
    "    path = ''\n",
    ")\n"
   ]
  },
  {
   "cell_type": "code",
   "execution_count": null,
   "id": "70536b45-9c4d-4c14-8d73-b2e2765b948f",
   "metadata": {},
   "outputs": [],
   "source": []
  }
 ],
 "metadata": {
  "kernelspec": {
   "display_name": "matrix-profile-bdg",
   "language": "python",
   "name": "matrix-profile-bdg"
  },
  "language_info": {
   "codemirror_mode": {
    "name": "ipython",
    "version": 3
   },
   "file_extension": ".py",
   "mimetype": "text/x-python",
   "name": "python",
   "nbconvert_exporter": "python",
   "pygments_lexer": "ipython3",
   "version": "3.8.8"
  }
 },
 "nbformat": 4,
 "nbformat_minor": 5
}
